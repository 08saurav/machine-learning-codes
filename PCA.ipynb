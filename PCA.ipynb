{
 "cells": [
  {
   "cell_type": "code",
   "execution_count": 1,
   "metadata": {},
   "outputs": [],
   "source": [
    "import numpy as np\n",
    "import pandas as pd\n",
    "from numpy import linalg as LA \n",
    "import scipy.io"
   ]
  },
  {
   "cell_type": "code",
   "execution_count": 2,
   "metadata": {},
   "outputs": [
    {
     "data": {
      "text/plain": [
       "array([ 647,  499,  464,  371,  291,  319,  365,  322,  296,  305,  277,\n",
       "        219,  219,  222,  201,  162,  157,  183,  204,  194,  198,  216,\n",
       "        249,  284,  294,  322,  338,  342,  336,  342,  362,  365,  348,\n",
       "        341,  324,  316,  293,  274,  251,  244,  263,  248,  236,  254,\n",
       "        255,  240,  223,  203,  202,  191,  185,  200,  203,  181,  168,\n",
       "        174,  185,  187,  165,  151,  144,  140,  149,  169,  192,  227,\n",
       "        287,  376,  493,  633,  763,  913, 1149, 1442, 1759, 2102, 2425,\n",
       "       2689, 2895, 3058, 3196, 3252, 3195, 3297, 3542, 3550, 3537, 3545,\n",
       "       3514, 3477, 3468, 3433, 3408, 3420, 3416, 3335, 3256, 3226, 3205,\n",
       "       3210, 3221, 3238, 3250], dtype=uint16)"
      ]
     },
     "execution_count": 2,
     "metadata": {},
     "output_type": "execute_result"
    }
   ],
   "source": [
    "f1 = scipy.io.loadmat('PaviaU.mat')\n",
    "f2 = scipy.io.loadmat('PaviaU_gt.mat')\n",
    "data1=f1['paviaU']\n",
    "data2=f2['paviaU_gt']\n",
    "data2.shape\n",
    "data1[0,0,:]"
   ]
  },
  {
   "cell_type": "code",
   "execution_count": 3,
   "metadata": {},
   "outputs": [
    {
     "data": {
      "text/plain": [
       "(207400, 103)"
      ]
     },
     "execution_count": 3,
     "metadata": {},
     "output_type": "execute_result"
    }
   ],
   "source": [
    "dataX=data1.reshape(-1,103)\n",
    "x1,y1=dataX.shape\n",
    "dataX[0,:]\n",
    "data1=dataX\n",
    "data1=data1-(1/x1)*np.sum(data1,axis=0)\n",
    "data1.shape"
   ]
  },
  {
   "cell_type": "code",
   "execution_count": 4,
   "metadata": {},
   "outputs": [],
   "source": [
    "dataY=data2.reshape(-1,1)\n",
    "dataY.shape\n",
    "out=dataY"
   ]
  },
  {
   "cell_type": "code",
   "execution_count": 5,
   "metadata": {},
   "outputs": [],
   "source": [
    "W1=np.random.randn(26,y1)*np.sqrt(1/y1)\n",
    "W1.shape\n",
    "W1[:5,:]\n",
    "bias1=np.random.randn(26,1)*np.sqrt(1/y1)"
   ]
  },
  {
   "cell_type": "code",
   "execution_count": 6,
   "metadata": {},
   "outputs": [],
   "source": [
    "def sigmoid(data):\n",
    "    return 1/(1+np.exp(-1*data))\n",
    "def maximizer(data):\n",
    "    return np.argmax(data,axis=1)"
   ]
  },
  {
   "cell_type": "code",
   "execution_count": 7,
   "metadata": {},
   "outputs": [],
   "source": [
    "W2=np.random.randn(10,26)*np.sqrt(1/26)\n",
    "W2.shape\n",
    "bias2=np.random.randn(10,1)*np.sqrt(1/26)"
   ]
  },
  {
   "cell_type": "code",
   "execution_count": 8,
   "metadata": {},
   "outputs": [],
   "source": [
    "def Forward_prop(W1,bias1,W2,bias2,data1):\n",
    "    data2=np.dot(W1,data1.T)\n",
    "    data2=data2+bias1\n",
    "    act_data2=sigmoid(data2)\n",
    "    x3,y3=act_data2.shape\n",
    "    data3=np.dot(W2,act_data2)\n",
    "    act_data3=sigmoid(data3).T\n",
    "    return [act_data3,act_data2]"
   ]
  },
  {
   "cell_type": "code",
   "execution_count": 9,
   "metadata": {},
   "outputs": [
    {
     "name": "stderr",
     "output_type": "stream",
     "text": [
      "c:\\python37\\lib\\site-packages\\ipykernel_launcher.py:2: RuntimeWarning: overflow encountered in exp\n",
      "  \n"
     ]
    },
    {
     "name": "stdout",
     "output_type": "stream",
     "text": [
      "0.6036644165863067\n"
     ]
    }
   ],
   "source": [
    "act_data3,act_data2=Forward_prop(W1,bias1,W2,bias2,data1)\n",
    "prediction_final=maximizer(act_data3)\n",
    "c=0\n",
    "for i,j in zip(prediction_final,out):\n",
    "    if i==j:\n",
    "        c+=1\n",
    "print(c/x1*100)"
   ]
  },
  {
   "cell_type": "code",
   "execution_count": 10,
   "metadata": {},
   "outputs": [
    {
     "name": "stdout",
     "output_type": "stream",
     "text": [
      "(207400, 10)\n"
     ]
    },
    {
     "data": {
      "text/plain": [
       "array([[1., 0., 0., ..., 0., 0., 0.],\n",
       "       [1., 0., 0., ..., 0., 0., 0.],\n",
       "       [1., 0., 0., ..., 0., 0., 0.],\n",
       "       ...,\n",
       "       [1., 0., 0., ..., 0., 0., 0.],\n",
       "       [1., 0., 0., ..., 0., 0., 0.],\n",
       "       [1., 0., 0., ..., 0., 0., 0.]])"
      ]
     },
     "execution_count": 10,
     "metadata": {},
     "output_type": "execute_result"
    }
   ],
   "source": [
    "data_X=np.zeros((x1,10))\n",
    "print(data_X.shape)\n",
    "for i,j in zip(out,range(0,x1)):\n",
    "    data_X[j,i%10]=1\n",
    "data_X"
   ]
  },
  {
   "cell_type": "code",
   "execution_count": 11,
   "metadata": {},
   "outputs": [
    {
     "data": {
      "text/plain": [
       "3.147460098096735"
      ]
     },
     "execution_count": 11,
     "metadata": {},
     "output_type": "execute_result"
    }
   ],
   "source": [
    "alpha=0.99\n",
    "loss=1/x1*np.sum(np.sum((act_data3-data_X)**2,axis=1),axis=0)\n",
    "loss"
   ]
  },
  {
   "cell_type": "code",
   "execution_count": 12,
   "metadata": {},
   "outputs": [],
   "source": [
    "def Backward_prop(act_data3,data_X,act_data2,W2,W1,bias1,bias2):\n",
    "    dz2=act_data3-data_X\n",
    "    for i in range(0,10):\n",
    "        if i==0:\n",
    "            dw2=np.sum(dz2[:,i].T*act_data2,axis=1)\n",
    "            db2=np.sum(dz2[:,i],axis=0)\n",
    "        else:\n",
    "            x=np.sum(dz2[:,i].T*act_data2,axis=1)\n",
    "            y=np.sum(dz2[:,i],axis=0)\n",
    "            dw2=np.vstack((dw2,x))\n",
    "            db2=np.vstack((db2,y))\n",
    "    W2=W2-alpha*1/x1*dw2\n",
    "    bias2=bias2-alpha*1/x1*db2\n",
    "    dz1=np.dot(W2.T,dz2.T)*((act_data2*(1-act_data2)))\n",
    "    dw1=np.dot(dz1,data1)\n",
    "    db1=np.sum(dz1,axis=1)\n",
    "    db1=db1.reshape(26,1)\n",
    "    W1=W1-alpha*1/x1*dw1\n",
    "    bias1=bias1-alpha*1/x1*db1\n",
    "    return [W1,bias1,W2,bias2]"
   ]
  },
  {
   "cell_type": "code",
   "execution_count": 13,
   "metadata": {},
   "outputs": [
    {
     "name": "stderr",
     "output_type": "stream",
     "text": [
      "c:\\python37\\lib\\site-packages\\ipykernel_launcher.py:2: RuntimeWarning: overflow encountered in exp\n",
      "  \n"
     ]
    }
   ],
   "source": [
    "for i in range(0,30):\n",
    "    W1,bias1,W2,bias2=Backward_prop(act_data3,data_X,act_data2,W2,W1,bias1,bias2)\n",
    "    act_data3,act_data2=Forward_prop(W1,bias1,W2,bias2,data1)"
   ]
  },
  {
   "cell_type": "code",
   "execution_count": 14,
   "metadata": {},
   "outputs": [
    {
     "name": "stdout",
     "output_type": "stream",
     "text": [
      "79.37512054001928\n"
     ]
    }
   ],
   "source": [
    "acc=[]\n",
    "prediction_final=maximizer(act_data3)\n",
    "c=0\n",
    "for i,j in zip(prediction_final,out):\n",
    "    if i==j:\n",
    "        c+=1\n",
    "print(c/x1*100)\n",
    "acc.append(c/x1*100)"
   ]
  },
  {
   "cell_type": "code",
   "execution_count": 15,
   "metadata": {},
   "outputs": [
    {
     "data": {
      "text/plain": [
       "0.3447378633586949"
      ]
     },
     "execution_count": 15,
     "metadata": {},
     "output_type": "execute_result"
    }
   ],
   "source": [
    "loss=1/x1*np.sum(np.sum((act_data3-data_X)**2,axis=1),axis=0)\n",
    "loss"
   ]
  },
  {
   "cell_type": "code",
   "execution_count": 16,
   "metadata": {},
   "outputs": [
    {
     "data": {
      "text/plain": [
       "array([[ 5.04631087e-02,  1.82681916e-01,  1.59683868e-02, ...,\n",
       "        -1.98331357e-02,  1.56572102e-02,  1.80493767e-01],\n",
       "       [ 4.64828898e-02,  1.84445701e-01,  2.35510290e-02, ...,\n",
       "        -4.74274538e-02, -3.22229096e-03,  6.63173083e-02],\n",
       "       [ 4.33735438e-02,  1.89970923e-01,  2.24212363e-02, ...,\n",
       "         2.68209334e-01,  5.01165829e-02,  2.36283468e-02],\n",
       "       ...,\n",
       "       [ 7.22059489e-02, -3.50634518e-02,  1.07588983e-01, ...,\n",
       "        -2.89346452e-04, -6.40386925e-04,  1.57785721e-04],\n",
       "       [ 6.54873159e-02, -3.06804578e-02,  1.03809509e-01, ...,\n",
       "         1.54292873e-04, -3.87841028e-05, -1.47820274e-04],\n",
       "       [ 5.78599208e-02, -2.56914589e-02,  9.72378629e-02, ...,\n",
       "         6.16175128e-05, -2.16369653e-05,  1.51868139e-05]])"
      ]
     },
     "execution_count": 16,
     "metadata": {},
     "output_type": "execute_result"
    }
   ],
   "source": [
    "l=[52, 26]\n",
    "# for i in l:\n",
    "w,v=LA.eig(np.dot(data1.T,data1))\n",
    "eig=np.vstack((v,w))\n",
    "srt_eig=eig[eig[-1,:].argsort()]\n",
    "srt_eig"
   ]
  },
  {
   "cell_type": "code",
   "execution_count": 17,
   "metadata": {},
   "outputs": [
    {
     "data": {
      "text/plain": [
       "array([5.78599208e-02, 6.54873159e-02, 7.22059489e-02, 7.94397867e-02,\n",
       "       8.52469793e-02, 8.90675776e-02, 9.23493619e-02, 9.48139698e-02,\n",
       "       9.72996128e-02, 1.00227418e-01, 1.03294356e-01, 1.05112993e-01,\n",
       "       1.07196457e-01, 1.09163083e-01, 1.10830409e-01, 1.12166141e-01,\n",
       "       1.13718411e-01, 1.14863315e-01, 1.15636925e-01, 1.16345286e-01,\n",
       "       1.16705799e-01, 1.16844451e-01, 1.16607221e-01, 1.16358955e-01,\n",
       "       1.16646026e-01, 1.17478954e-01, 1.17279637e-01, 1.16710518e-01,\n",
       "       1.16353825e-01, 1.16718170e-01, 1.17382170e-01, 1.17539948e-01,\n",
       "       1.17790414e-01, 1.18768752e-01, 1.19858938e-01, 1.20935702e-01,\n",
       "       1.21819902e-01, 1.22381064e-01, 1.22532817e-01, 1.22298613e-01,\n",
       "       1.21739797e-01, 1.21011686e-01, 1.20469110e-01, 1.20179436e-01,\n",
       "       1.20143477e-01, 1.20175711e-01, 1.19925800e-01, 1.19540011e-01,\n",
       "       1.19371909e-01, 1.18572849e-01, 1.18501482e-01, 1.18991841e-01,\n",
       "       1.19139306e-01, 1.19385446e-01, 1.19183878e-01, 1.19065118e-01,\n",
       "       1.19376640e-01, 1.20182073e-01, 1.20937307e-01, 1.21093261e-01,\n",
       "       1.21332606e-01, 1.21659027e-01, 1.21619151e-01, 1.20934755e-01,\n",
       "       1.19081173e-01, 1.17060497e-01, 1.15578921e-01, 1.12817248e-01,\n",
       "       1.09373751e-01, 1.05129113e-01, 1.00219919e-01, 9.45088964e-02,\n",
       "       8.78142721e-02, 8.11469437e-02, 7.51502361e-02, 7.00285285e-02,\n",
       "       6.54675655e-02, 6.13857282e-02, 5.78352369e-02, 5.48779835e-02,\n",
       "       5.26620828e-02, 5.04631087e-02, 4.76714650e-02, 4.54059995e-02,\n",
       "       4.61931036e-02, 4.64828898e-02, 4.58506821e-02, 4.49947235e-02,\n",
       "       4.42634921e-02, 4.37289616e-02, 4.33735438e-02, 4.28377885e-02,\n",
       "       4.22499946e-02, 4.18978571e-02, 4.14791634e-02, 4.06397164e-02,\n",
       "       3.97924328e-02, 3.94192209e-02, 3.92917808e-02, 3.91910234e-02,\n",
       "       3.90365247e-02, 3.92995791e-02, 3.95439353e-02, 6.49756988e+12])"
      ]
     },
     "execution_count": 17,
     "metadata": {},
     "output_type": "execute_result"
    }
   ],
   "source": [
    "srt_eig[:,0]\n",
    "eig[:,0]"
   ]
  },
  {
   "cell_type": "code",
   "execution_count": 18,
   "metadata": {},
   "outputs": [
    {
     "data": {
      "text/plain": [
       "(103, 75)"
      ]
     },
     "execution_count": 18,
     "metadata": {},
     "output_type": "execute_result"
    }
   ],
   "source": [
    "basis=srt_eig[:,-75:-1]\n",
    "basis1=np.hstack((basis,srt_eig[:,-1].reshape(-1,1)))\n",
    "basis1.shape"
   ]
  },
  {
   "cell_type": "code",
   "execution_count": 19,
   "metadata": {},
   "outputs": [],
   "source": [
    "data_fin=np.dot(data1,basis1)\n",
    "x1,y1=data_fin.shape\n",
    "data1=data_fin\n",
    "data1=data1-(1/x1)*np.sum(data1,axis=0)"
   ]
  },
  {
   "cell_type": "code",
   "execution_count": 20,
   "metadata": {},
   "outputs": [],
   "source": [
    "W1=np.random.randn(26,y1)*np.sqrt(1/y1)\n",
    "W1.shape\n",
    "W1[:5,:]\n",
    "bias1=np.random.randn(26,1)*np.sqrt(1/y1)"
   ]
  },
  {
   "cell_type": "code",
   "execution_count": 21,
   "metadata": {},
   "outputs": [],
   "source": [
    "W2=np.random.randn(10,26)*np.sqrt(1/26)\n",
    "W2.shape\n",
    "bias2=np.random.randn(10,1)*np.sqrt(1/26)"
   ]
  },
  {
   "cell_type": "code",
   "execution_count": 22,
   "metadata": {},
   "outputs": [
    {
     "name": "stderr",
     "output_type": "stream",
     "text": [
      "c:\\python37\\lib\\site-packages\\ipykernel_launcher.py:2: RuntimeWarning: overflow encountered in exp\n",
      "  \n"
     ]
    },
    {
     "name": "stdout",
     "output_type": "stream",
     "text": [
      "1.1923818707810994\n"
     ]
    }
   ],
   "source": [
    "act_data3,act_data2=Forward_prop(W1,bias1,W2,bias2,data1)\n",
    "prediction_final=maximizer(act_data3)\n",
    "c=0\n",
    "for i,j in zip(prediction_final,out):\n",
    "    if i==j:\n",
    "        c+=1\n",
    "print(c/x1*100)"
   ]
  },
  {
   "cell_type": "code",
   "execution_count": 23,
   "metadata": {},
   "outputs": [
    {
     "name": "stderr",
     "output_type": "stream",
     "text": [
      "c:\\python37\\lib\\site-packages\\ipykernel_launcher.py:2: RuntimeWarning: overflow encountered in exp\n",
      "  \n"
     ]
    }
   ],
   "source": [
    "for i in range(0,30):\n",
    "    W1,bias1,W2,bias2=Backward_prop(act_data3,data_X,act_data2,W2,W1,bias1,bias2)\n",
    "    act_data3,act_data2=Forward_prop(W1,bias1,W2,bias2,data1)"
   ]
  },
  {
   "cell_type": "code",
   "execution_count": 24,
   "metadata": {},
   "outputs": [
    {
     "name": "stdout",
     "output_type": "stream",
     "text": [
      "79.3731918997107\n"
     ]
    }
   ],
   "source": [
    "prediction_final=maximizer(act_data3)\n",
    "c=0\n",
    "for i,j in zip(prediction_final,out):\n",
    "    if i==j:\n",
    "        c+=1\n",
    "print(c/x1*100)\n",
    "acc.append(c/x1*100)"
   ]
  },
  {
   "cell_type": "code",
   "execution_count": 25,
   "metadata": {},
   "outputs": [],
   "source": [
    "f1 = scipy.io.loadmat('PaviaU.mat')\n",
    "data1=f1['paviaU']\n",
    "dataX=data1.reshape(-1,103)\n",
    "x1,y1=dataX.shape\n",
    "dataX[0,:]\n",
    "data1=dataX"
   ]
  },
  {
   "cell_type": "code",
   "execution_count": 26,
   "metadata": {},
   "outputs": [
    {
     "name": "stderr",
     "output_type": "stream",
     "text": [
      "c:\\python37\\lib\\site-packages\\ipykernel_launcher.py:2: RuntimeWarning: overflow encountered in exp\n",
      "  \n"
     ]
    },
    {
     "name": "stdout",
     "output_type": "stream",
     "text": [
      "1.3461909353905497\n",
      "79.3529411764706\n",
      "4.693346190935391\n",
      "79.37560270009644\n"
     ]
    }
   ],
   "source": [
    "l=[52, 26]\n",
    "for i in l:\n",
    "    basis=srt_eig[:,-1*i:-1]\n",
    "    basis1=np.hstack((basis,srt_eig[:,-1].reshape(-1,1)))\n",
    "    basis1.shape\n",
    "    data_fin=np.dot(data1,basis1)\n",
    "    x1,y1=data_fin.shape\n",
    "    data1=data_fin\n",
    "    W1=np.random.randn(26,y1)*np.sqrt(1/y1)\n",
    "    W1.shape\n",
    "    W1[:5,:]\n",
    "    bias1=np.random.randn(26,1)*np.sqrt(1/y1)\n",
    "    W2=np.random.randn(10,26)*np.sqrt(1/26)\n",
    "    W2.shape\n",
    "    bias2=np.random.randn(10,1)*np.sqrt(1/26)\n",
    "    act_data3,act_data2=Forward_prop(W1,bias1,W2,bias2,data1)\n",
    "    prediction_final=maximizer(act_data3)\n",
    "    c=0\n",
    "    for i,j in zip(prediction_final,out):\n",
    "        if i==j:\n",
    "            c+=1\n",
    "    print(c/x1*100)\n",
    "    for i in range(0,30):\n",
    "        W1,bias1,W2,bias2=Backward_prop(act_data3,data_X,act_data2,W2,W1,bias1,bias2)\n",
    "        act_data3,act_data2=Forward_prop(W1,bias1,W2,bias2,data1)\n",
    "    prediction_final=maximizer(act_data3)\n",
    "    c=0\n",
    "    for i,j in zip(prediction_final,out):\n",
    "        if i==j:\n",
    "            c+=1\n",
    "    print(c/x1*100)\n",
    "    acc.append(c/x1*100)\n",
    "    f1 = scipy.io.loadmat('PaviaU.mat')\n",
    "    data1=f1['paviaU']\n",
    "    dataX=data1.reshape(-1,103)\n",
    "    x1,y1=dataX.shape\n",
    "    dataX[0,:]\n",
    "    data1=dataX\n",
    "    data1=data1-(1/x1)*np.sum(data1,axis=0)"
   ]
  },
  {
   "cell_type": "code",
   "execution_count": 28,
   "metadata": {},
   "outputs": [
    {
     "data": {
      "text/plain": [
       "4"
      ]
     },
     "execution_count": 28,
     "metadata": {},
     "output_type": "execute_result"
    },
    {
     "data": {
      "image/png": "[encoded data removed]",
      "text/plain": [
       "<Figure size 432x288 with 1 Axes>"
      ]
     },
     "metadata": {
      "needs_background": "light"
     },
     "output_type": "display_data"
    }
   ],
   "source": [
    "l=[103,75,52,26]\n",
    "import matplotlib.pyplot as plt\n",
    "plt.plot(l,acc)\n",
    "plt.xlabel('Num of Feature') \n",
    "plt.ylabel('Accuracy')\n",
    "len(acc)"
   ]
  }
 ],
 "metadata": {
  "kernelspec": {
   "display_name": "Python 3",
   "language": "python",
   "name": "python3"
  },
  "language_info": {
   "codemirror_mode": {
    "name": "ipython",
    "version": 3
   },
   "file_extension": ".py",
   "mimetype": "text/x-python",
   "name": "python",
   "nbconvert_exporter": "python",
   "pygments_lexer": "ipython3",
   "version": "3.7.3"
  }
 },
 "nbformat": 4,
 "nbformat_minor": 2
}
