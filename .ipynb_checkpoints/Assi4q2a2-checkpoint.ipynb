{
 "cells": [
  {
   "cell_type": "code",
   "execution_count": 44,
   "metadata": {},
   "outputs": [],
   "source": [
    "import numpy as np\n",
    "import h5py\n",
    "import matplotlib.pyplot as plt\n",
    "from collections import Counter\n",
    "with h5py.File(\"C:\\\\Users\\\\Varun Parashar\\\\usps.h5\", 'r') as hf:\n",
    "        train = hf.get('train')\n",
    "        X_tr1 = train.get('data')[:]\n",
    "        y_tr1 = train.get('target')[:]\n",
    "        test = hf.get('test')\n",
    "        X_te1 = test.get('data')[:]\n",
    "        y_te1 = test.get('target')[:]"
   ]
  },
  {
   "cell_type": "code",
   "execution_count": 45,
   "metadata": {},
   "outputs": [],
   "source": [
    "X_tr=np.vstack((X_tr1,X_te1))\n",
    "y_tr=np.hstack((y_tr1,y_te1))"
   ]
  },
  {
   "cell_type": "code",
   "execution_count": 46,
   "metadata": {},
   "outputs": [
    {
     "name": "stdout",
     "output_type": "stream",
     "text": [
      "(9298, 256) 1859.6\n"
     ]
    }
   ],
   "source": [
    "l_tr=X_tr.shape[0]\n",
    "x=l_tr/5\n",
    "print(X_tr.shape,x)"
   ]
  },
  {
   "cell_type": "code",
   "execution_count": 47,
   "metadata": {},
   "outputs": [],
   "source": [
    "X_tr1=X_tr[0:int(x)]\n",
    "X_tr2=X_tr[int(x):int(x)*2]\n",
    "X_tr3=X_tr[2*int(x):int(x)*3]\n",
    "X_tr4=X_tr[3*int(x):4*int(x)]\n",
    "X_tr5=X_tr[4*int(x):]\n",
    "y_tr1=y_tr[0:int(x)]\n",
    "y_tr2=y_tr[int(x):int(x)*2]\n",
    "y_tr3=y_tr[2*int(x):int(x)*3]\n",
    "y_tr4=y_tr[3*int(x):4*int(x)]\n",
    "y_tr5=y_tr[4*int(x):]"
   ]
  },
  {
   "cell_type": "code",
   "execution_count": 51,
   "metadata": {},
   "outputs": [
    {
     "name": "stdout",
     "output_type": "stream",
     "text": [
      "9298\n"
     ]
    }
   ],
   "source": [
    "X_tr=np.vstack((X_tr1,X_tr2,X_tr3,X_tr4))\n",
    "y_tr=np.hstack((y_tr1,y_tr2,y_tr3,y_tr4))\n",
    "X_te=X_tr5\n",
    "y_te=y_tr5\n",
    "l_tr=X_tr.shape[0]\n",
    "l_te=X_te.shape[0]\n",
    "x=l_tr+l_te\n",
    "print(x)"
   ]
  },
  {
   "cell_type": "code",
   "execution_count": 52,
   "metadata": {},
   "outputs": [
    {
     "name": "stdout",
     "output_type": "stream",
     "text": [
      "4 4\n"
     ]
    },
    {
     "data": {
      "image/png": "[encoded data removed]",
      "text/plain": [
       "<Figure size 432x288 with 1 Axes>"
      ]
     },
     "metadata": {
      "needs_background": "light"
     },
     "output_type": "display_data"
    }
   ],
   "source": [
    "def Sort_Tuple(tup):  \n",
    "    return(sorted(tup, key = lambda x: x[0]))\n",
    "def knn(k,X_tr,X_te,m):\n",
    "    l=[]\n",
    "    lsort=[]\n",
    "    pred=[]\n",
    "    for i in range(m,m+1):\n",
    "        for j in range(0,l_tr):\n",
    "            x=np.sqrt(np.sum((np.square(X_te[i,:]-X_tr[j,:])),axis=0))\n",
    "            l.append((x,y_tr[j]))\n",
    "        lsort=Sort_Tuple(l)\n",
    "        for i in range(0,k):\n",
    "            pred.append(lsort[i][1])\n",
    "        counter=Counter(pred)\n",
    "        print(counter.most_common(1)[0][0],y_te[m])\n",
    "    img=X_te[m].reshape(16,16)\n",
    "    plt.imshow(img,cmap='Greys')\n",
    "    plt.show()\n",
    "knn(4,X_tr,X_te,8)"
   ]
  }
 ],
 "metadata": {
  "kernelspec": {
   "display_name": "Python 3",
   "language": "python",
   "name": "python3"
  },
  "language_info": {
   "codemirror_mode": {
    "name": "ipython",
    "version": 3
   },
   "file_extension": ".py",
   "mimetype": "text/x-python",
   "name": "python",
   "nbconvert_exporter": "python",
   "pygments_lexer": "ipython3",
   "version": "3.7.3"
  }
 },
 "nbformat": 4,
 "nbformat_minor": 2
}
