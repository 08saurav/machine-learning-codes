{
 "cells": [
  {
   "cell_type": "code",
   "execution_count": 1,
   "metadata": {},
   "outputs": [],
   "source": [
    "import pandas as pd"
   ]
  },
  {
   "cell_type": "code",
   "execution_count": 2,
   "metadata": {},
   "outputs": [
    {
     "name": "stdout",
     "output_type": "stream",
     "text": [
      "['no-recurrence-events' 'recurrence-events']\n"
     ]
    },
    {
     "data": {
      "text/html": [
       "<div>\n",
       "<style scoped>\n",
       "    .dataframe tbody tr th:only-of-type {\n",
       "        vertical-align: middle;\n",
       "    }\n",
       "\n",
       "    .dataframe tbody tr th {\n",
       "        vertical-align: top;\n",
       "    }\n",
       "\n",
       "    .dataframe thead th {\n",
       "        text-align: right;\n",
       "    }\n",
       "</style>\n",
       "<table border=\"1\" class=\"dataframe\">\n",
       "  <thead>\n",
       "    <tr style=\"text-align: right;\">\n",
       "      <th></th>\n",
       "      <th>no-recurrence-events</th>\n",
       "      <th>recurrence-events</th>\n",
       "    </tr>\n",
       "  </thead>\n",
       "  <tbody>\n",
       "    <tr>\n",
       "      <th>no-recurrence-events</th>\n",
       "      <td>0.0</td>\n",
       "      <td>0.8</td>\n",
       "    </tr>\n",
       "    <tr>\n",
       "      <th>recurrence-events</th>\n",
       "      <td>0.2</td>\n",
       "      <td>0.0</td>\n",
       "    </tr>\n",
       "  </tbody>\n",
       "</table>\n",
       "</div>"
      ],
      "text/plain": [
       "                      no-recurrence-events  recurrence-events\n",
       "no-recurrence-events                   0.0                0.8\n",
       "recurrence-events                      0.2                0.0"
      ]
     },
     "execution_count": 2,
     "metadata": {},
     "output_type": "execute_result"
    }
   ],
   "source": [
    "data1=pd.read_csv(r'C:\\Users\\Varun Parashar\\breast-cancer_train.txt',header=None)\n",
    "data2=pd.read_csv(r'C:\\Users\\Varun Parashar\\breast-cancer_test.txt',header=None)\n",
    "x=data1.loc[:,0].unique()\n",
    "print(x)\n",
    "data3=data1[data1.loc[:,0]==x[0]]\n",
    "data4=data1[data1.loc[:,0]==x[1]]\n",
    "\n",
    "conf=pd.DataFrame(data=[(0,0.8),(0.2,0)],index=['no-recurrence-events','recurrence-events'],columns=['no-recurrence-events','recurrence-events'])\n",
    "conf"
   ]
  },
  {
   "cell_type": "code",
   "execution_count": 5,
   "metadata": {},
   "outputs": [],
   "source": [
    "x=(data3.shape)[0]\n",
    "y=(data4.shape)[0]\n",
    "y2=(data2.shape)[1]\n",
    "x3=[]\n",
    "for i,j in data2.iterrows():\n",
    "    p1=1\n",
    "    p2=1\n",
    "    Rrec=0\n",
    "    Rnonrec=0\n",
    "    for k in range(1,y2):\n",
    "        x1=((data3[data3.loc[:,k]==j[k]].shape)[0])/x\n",
    "        x2=((data4[data4.loc[:,k]==j[k]].shape)[0])/y\n",
    "        p1=p1*x1\n",
    "        p2=p2*x2\n",
    "        Rrec=0.2*p1\n",
    "        Rnonrec=0.8*p2\n",
    "    if Rrec>Rnonrec:\n",
    "        x3.append('no-recurrence-events')\n",
    "    else:\n",
    "        x3.append('recurrence-events')\n",
    "# print(x3)\n",
    "# print(data2.loc[:,0])"
   ]
  },
  {
   "cell_type": "code",
   "execution_count": 6,
   "metadata": {},
   "outputs": [
    {
     "name": "stdout",
     "output_type": "stream",
     "text": [
      "Accuracy 47.76119402985074\n"
     ]
    }
   ],
   "source": [
    "count=0\n",
    "total=(data2.shape)[0]\n",
    "for i,j in zip(range(0,total),data2.loc[:,0]):\n",
    "    if x3[i]==j:\n",
    "        count+=1\n",
    "print('Accuracy',(count/total)*100)"
   ]
  },
  {
   "cell_type": "code",
   "execution_count": null,
   "metadata": {},
   "outputs": [],
   "source": []
  }
 ],
 "metadata": {
  "kernelspec": {
   "display_name": "Python 3",
   "language": "python",
   "name": "python3"
  },
  "language_info": {
   "codemirror_mode": {
    "name": "ipython",
    "version": 3
   },
   "file_extension": ".py",
   "mimetype": "text/x-python",
   "name": "python",
   "nbconvert_exporter": "python",
   "pygments_lexer": "ipython3",
   "version": "3.7.3"
  }
 },
 "nbformat": 4,
 "nbformat_minor": 2
}
