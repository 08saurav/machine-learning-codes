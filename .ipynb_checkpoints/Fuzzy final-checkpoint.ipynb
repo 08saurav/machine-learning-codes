{
 "cells": [
  {
   "cell_type": "code",
   "execution_count": 14,
   "metadata": {
    "scrolled": true
   },
   "outputs": [
    {
     "name": "stdout",
     "output_type": "stream",
     "text": [
      "5\n",
      "5\n",
      "[[0, 0, 0], [0, 23, 49], [0, 0, 0], [0, 0, 0], [50, 27, 1]]\n",
      "6\n",
      "6\n"
     ]
    },
    {
     "name": "stderr",
     "output_type": "stream",
     "text": [
      "c:\\python37\\lib\\site-packages\\ipykernel_launcher.py:46: RuntimeWarning: divide by zero encountered in true_divide\n",
      "c:\\python37\\lib\\site-packages\\ipykernel_launcher.py:46: RuntimeWarning: invalid value encountered in true_divide\n"
     ]
    },
    {
     "name": "stdout",
     "output_type": "stream",
     "text": [
      "[[50, 50, 50], [0, 0, 0], [0, 0, 0], [0, 0, 0], [0, 0, 0], [0, 0, 0]]\n",
      "7\n",
      "7\n",
      "[[50, 50, 50], [0, 0, 0], [0, 0, 0], [0, 0, 0], [0, 0, 0], [0, 0, 0], [0, 0, 0]]\n",
      "8\n",
      "8\n",
      "[[50, 50, 50], [0, 0, 0], [0, 0, 0], [0, 0, 0], [0, 0, 0], [0, 0, 0], [0, 0, 0], [0, 0, 0]]\n",
      "9\n",
      "9\n",
      "[[27, 3, 12], [15, 9, 0], [8, 16, 1], [0, 0, 0], [0, 21, 37], [0, 0, 0], [0, 0, 0], [0, 1, 0], [0, 0, 0]]\n",
      "10\n",
      "10\n",
      "[[50, 50, 50], [0, 0, 0], [0, 0, 0], [0, 0, 0], [0, 0, 0], [0, 0, 0], [0, 0, 0], [0, 0, 0], [0, 0, 0], [0, 0, 0]]\n",
      "11\n",
      "11\n",
      "[[0, 0, 5], [23, 0, 0], [0, 0, 0], [0, 0, 0], [0, 0, 12], [5, 3, 0], [0, 43, 33], [0, 0, 0], [0, 0, 0], [0, 0, 0], [22, 4, 0]]\n",
      "12\n",
      "12\n",
      "[[50, 50, 50], [0, 0, 0], [0, 0, 0], [0, 0, 0], [0, 0, 0], [0, 0, 0], [0, 0, 0], [0, 0, 0], [0, 0, 0], [0, 0, 0], [0, 0, 0], [0, 0, 0]]\n",
      "13\n",
      "13\n",
      "[[50, 50, 50], [0, 0, 0], [0, 0, 0], [0, 0, 0], [0, 0, 0], [0, 0, 0], [0, 0, 0], [0, 0, 0], [0, 0, 0], [0, 0, 0], [0, 0, 0], [0, 0, 0], [0, 0, 0]]\n",
      "14\n",
      "14\n",
      "[[0, 21, 31], [0, 2, 0], [0, 0, 0], [50, 26, 19], [0, 0, 0], [0, 0, 0], [0, 0, 0], [0, 0, 0], [0, 0, 0], [0, 0, 0], [0, 1, 0], [0, 0, 0], [0, 0, 0], [0, 0, 0]]\n",
      "15\n",
      "15\n",
      "[[50, 50, 50], [0, 0, 0], [0, 0, 0], [0, 0, 0], [0, 0, 0], [0, 0, 0], [0, 0, 0], [0, 0, 0], [0, 0, 0], [0, 0, 0], [0, 0, 0], [0, 0, 0], [0, 0, 0], [0, 0, 0], [0, 0, 0]]\n",
      "16\n",
      "16\n",
      "[[0, 0, 0], [0, 0, 0], [0, 0, 0], [0, 0, 0], [0, 0, 0], [0, 0, 0], [0, 0, 0], [0, 43, 50], [50, 7, 0], [0, 0, 0], [0, 0, 0], [0, 0, 0], [0, 0, 0], [0, 0, 0], [0, 0, 0], [0, 0, 0]]\n",
      "17\n",
      "17\n",
      "[[50, 13, 1], [0, 0, 0], [0, 0, 0], [0, 37, 49], [0, 0, 0], [0, 0, 0], [0, 0, 0], [0, 0, 0], [0, 0, 0], [0, 0, 0], [0, 0, 0], [0, 0, 0], [0, 0, 0], [0, 0, 0], [0, 0, 0], [0, 0, 0], [0, 0, 0]]\n",
      "18\n",
      "18\n",
      "[[50, 26, 15], [0, 5, 34], [0, 0, 0], [0, 0, 0], [0, 5, 0], [0, 0, 0], [0, 0, 0], [0, 0, 0], [0, 0, 0], [0, 0, 0], [0, 0, 0], [0, 14, 1], [0, 0, 0], [0, 0, 0], [0, 0, 0], [0, 0, 0], [0, 0, 0], [0, 0, 0]]\n",
      "19\n",
      "19\n",
      "[[0, 0, 0], [0, 0, 0], [0, 0, 0], [0, 0, 0], [0, 0, 0], [50, 27, 1], [0, 0, 0], [0, 0, 0], [0, 0, 0], [0, 0, 0], [0, 0, 0], [0, 0, 0], [0, 0, 0], [0, 0, 0], [0, 0, 0], [0, 0, 0], [0, 0, 0], [0, 23, 49], [0, 0, 0]]\n",
      "20\n",
      "20\n",
      "[[5, 9, 0], [0, 13, 0], [0, 0, 0], [0, 0, 4], [0, 0, 0], [0, 1, 0], [45, 19, 15], [0, 0, 0], [0, 0, 0], [0, 0, 0], [0, 5, 8], [0, 0, 0], [0, 3, 23], [0, 0, 0], [0, 0, 0], [0, 0, 0], [0, 0, 0], [0, 0, 0], [0, 0, 0], [0, 0, 0]]\n",
      "21\n",
      "21\n",
      "[[49, 9, 0], [1, 41, 50], [0, 0, 0], [0, 0, 0], [0, 0, 0], [0, 0, 0], [0, 0, 0], [0, 0, 0], [0, 0, 0], [0, 0, 0], [0, 0, 0], [0, 0, 0], [0, 0, 0], [0, 0, 0], [0, 0, 0], [0, 0, 0], [0, 0, 0], [0, 0, 0], [0, 0, 0], [0, 0, 0], [0, 0, 0]]\n",
      "22\n",
      "22\n",
      "[[0, 4, 0], [0, 0, 0], [0, 0, 0], [50, 23, 2], [0, 4, 0], [0, 0, 0], [0, 0, 0], [0, 0, 0], [0, 0, 0], [0, 0, 0], [0, 0, 0], [0, 19, 48], [0, 0, 0], [0, 0, 0], [0, 0, 0], [0, 0, 0], [0, 0, 0], [0, 0, 0], [0, 0, 0], [0, 0, 0], [0, 0, 0], [0, 0, 0]]\n",
      "23\n",
      "23\n",
      "[[0, 0, 0], [0, 0, 0], [0, 0, 0], [0, 0, 0], [0, 19, 45], [0, 0, 0], [0, 0, 0], [0, 0, 0], [0, 0, 0], [0, 0, 0], [0, 0, 0], [50, 31, 5], [0, 0, 0], [0, 0, 0], [0, 0, 0], [0, 0, 0], [0, 0, 0], [0, 0, 0], [0, 0, 0], [0, 0, 0], [0, 0, 0], [0, 0, 0], [0, 0, 0]]\n",
      "24\n",
      "24\n",
      "[[0, 0, 0], [0, 0, 0], [0, 0, 0], [50, 24, 0], [0, 3, 0], [0, 0, 0], [0, 0, 0], [0, 2, 33], [0, 1, 5], [0, 0, 0], [0, 0, 0], [0, 17, 11], [0, 3, 0], [0, 0, 0], [0, 0, 0], [0, 0, 0], [0, 0, 0], [0, 0, 0], [0, 0, 0], [0, 0, 1], [0, 0, 0], [0, 0, 0], [0, 0, 0], [0, 0, 0]]\n",
      "25\n",
      "25\n",
      "[[0, 0, 0], [0, 0, 0], [0, 0, 0], [0, 0, 0], [0, 0, 0], [0, 0, 0], [50, 27, 1], [0, 0, 0], [0, 23, 49], [0, 0, 0], [0, 0, 0], [0, 0, 0], [0, 0, 0], [0, 0, 0], [0, 0, 0], [0, 0, 0], [0, 0, 0], [0, 0, 0], [0, 0, 0], [0, 0, 0], [0, 0, 0], [0, 0, 0], [0, 0, 0], [0, 0, 0], [0, 0, 0]]\n",
      "26\n",
      "26\n",
      "[[50, 50, 50], [0, 0, 0], [0, 0, 0], [0, 0, 0], [0, 0, 0], [0, 0, 0], [0, 0, 0], [0, 0, 0], [0, 0, 0], [0, 0, 0], [0, 0, 0], [0, 0, 0], [0, 0, 0], [0, 0, 0], [0, 0, 0], [0, 0, 0], [0, 0, 0], [0, 0, 0], [0, 0, 0], [0, 0, 0], [0, 0, 0], [0, 0, 0], [0, 0, 0], [0, 0, 0], [0, 0, 0], [0, 0, 0]]\n",
      "27\n",
      "27\n",
      "[[0, 3, 0], [0, 6, 8], [0, 0, 0], [0, 0, 0], [0, 0, 0], [50, 24, 1], [0, 0, 0], [0, 0, 0], [0, 0, 0], [0, 0, 0], [0, 0, 0], [0, 0, 0], [0, 0, 0], [0, 0, 0], [0, 0, 0], [0, 0, 0], [0, 17, 36], [0, 0, 0], [0, 0, 0], [0, 0, 0], [0, 0, 0], [0, 0, 0], [0, 0, 0], [0, 0, 5], [0, 0, 0], [0, 0, 0], [0, 0, 0]]\n",
      "28\n",
      "28\n",
      "[[0, 0, 0], [0, 0, 0], [0, 0, 0], [0, 23, 49], [0, 0, 0], [0, 0, 0], [0, 0, 0], [0, 0, 0], [0, 0, 0], [0, 0, 0], [0, 0, 0], [0, 0, 0], [0, 0, 0], [0, 0, 0], [0, 0, 0], [0, 0, 0], [0, 0, 0], [0, 0, 0], [0, 0, 0], [0, 0, 0], [50, 27, 1], [0, 0, 0], [0, 0, 0], [0, 0, 0], [0, 0, 0], [0, 0, 0], [0, 0, 0], [0, 0, 0]]\n",
      "29\n",
      "29\n",
      "[[50, 50, 50], [0, 0, 0], [0, 0, 0], [0, 0, 0], [0, 0, 0], [0, 0, 0], [0, 0, 0], [0, 0, 0], [0, 0, 0], [0, 0, 0], [0, 0, 0], [0, 0, 0], [0, 0, 0], [0, 0, 0], [0, 0, 0], [0, 0, 0], [0, 0, 0], [0, 0, 0], [0, 0, 0], [0, 0, 0], [0, 0, 0], [0, 0, 0], [0, 0, 0], [0, 0, 0], [0, 0, 0], [0, 0, 0], [0, 0, 0], [0, 0, 0], [0, 0, 0]]\n",
      "30\n",
      "30\n",
      "[[0, 0, 0], [0, 0, 0], [0, 0, 0], [0, 0, 0], [0, 0, 0], [0, 0, 0], [0, 0, 0], [0, 43, 50], [0, 0, 0], [0, 0, 0], [0, 0, 0], [0, 0, 0], [0, 0, 0], [0, 0, 0], [0, 0, 0], [0, 0, 0], [0, 0, 0], [0, 0, 0], [0, 0, 0], [0, 0, 0], [0, 0, 0], [0, 0, 0], [0, 0, 0], [0, 0, 0], [0, 0, 0], [50, 7, 0], [0, 0, 0], [0, 0, 0], [0, 0, 0], [0, 0, 0]]\n"
     ]
    },
    {
     "data": {
      "text/plain": [
       "[66.0,\n",
       " 33.33333333333333,\n",
       " 33.33333333333333,\n",
       " 33.33333333333333,\n",
       " 64.0,\n",
       " 33.33333333333333,\n",
       " 73.33333333333333,\n",
       " 33.33333333333333,\n",
       " 33.33333333333333,\n",
       " 56.00000000000001,\n",
       " 33.33333333333333,\n",
       " 66.66666666666666,\n",
       " 66.0,\n",
       " 68.66666666666667,\n",
       " 66.0,\n",
       " 68.66666666666667,\n",
       " 66.0,\n",
       " 70.66666666666667,\n",
       " 63.33333333333333,\n",
       " 74.66666666666667,\n",
       " 66.0,\n",
       " 33.33333333333333,\n",
       " 68.0,\n",
       " 66.0,\n",
       " 33.33333333333333,\n",
       " 66.66666666666666]"
      ]
     },
     "execution_count": 14,
     "metadata": {},
     "output_type": "execute_result"
    }
   ],
   "source": [
    "import numpy as np\n",
    "import pandas as pd\n",
    "import collections\n",
    "data=pd.read_csv('iris.data',header=None)\n",
    "x,y=data.shape\n",
    "r,c=x,y\n",
    "lis=data.iloc[:,4].unique()\n",
    "dict={}\n",
    "count=0\n",
    "for i in lis:\n",
    "    if i not in dict.keys():\n",
    "        dict[i]=count\n",
    "        count+=1\n",
    "for i in range(0,x):\n",
    "    data.iloc[i,4]=dict[data.iloc[i,4]]\n",
    "list=[i for i in range(5,31)]\n",
    "acc2=[]\n",
    "for cl in list:\n",
    "    print(cl)\n",
    "    mem_matrix=np.random.random_sample((r,cl))\n",
    "    mem_matrix=mem_matrix/np.sum(mem_matrix,axis=1).reshape(-1,1)\n",
    "    m=np.random.rand(1)*np.random.randint(1,10)\n",
    "    data1=data.to_numpy()\n",
    "    cent=[]\n",
    "    for i in range(0,cl):\n",
    "        cent.append(np.sum(data1*((mem_matrix[:,i])**m).reshape(-1,1),axis=0)/np.sum((mem_matrix[:,i])**m))\n",
    "    print(len(cent))\n",
    "    l=np.zeros((r,1))\n",
    "    for i in cent:\n",
    "        l1=np.sqrt(np.sum((data1-i)**2,axis=1))\n",
    "        l=np.hstack((l,l1.reshape(-1,1)))\n",
    "    l=l[:,1:]\n",
    "    new_mem_matrix=((1/l)**(1/(m-1)))/np.sum(((1/l)**(1/(m-1))),axis=0)\n",
    "    l=np.argmin(new_mem_matrix,axis=1)\n",
    "    for j in range(0,100):\n",
    "        cent=[]\n",
    "        mem_matrix=new_mem_matrix\n",
    "        for i in range(0,cl):\n",
    "            cent.append(np.sum(data1*((mem_matrix[:,i])**m).reshape(-1,1),axis=0)/np.sum((mem_matrix[:,i])**m))\n",
    "        cent\n",
    "        l=np.zeros((r,1))\n",
    "        for i in cent:\n",
    "            l1=np.sqrt(np.sum((data1-i)**2,axis=1))\n",
    "            l=np.hstack((l,l1.reshape(-1,1)))\n",
    "        l=l[:,1:]\n",
    "        new_mem_matrix=((1/l)**(1/(m-1)))/np.sum(((1/l)**(1/(m-1))),axis=0)\n",
    "        l=np.argmin(new_mem_matrix,axis=1)\n",
    "    comp=np.hstack((l.reshape(-1,1),data1[:,4].reshape(-1,1)))\n",
    "    gr=[0,1,2]\n",
    "    acc=[]\n",
    "    for i in range(0,cl):\n",
    "        x=comp[comp[:,0]==i]\n",
    "        t=[]\n",
    "        for j in gr:\n",
    "            t.append(len(x[x[:,1]==j]))\n",
    "        acc.append(t)\n",
    "    print(acc)\n",
    "    count=0\n",
    "    for i in acc:\n",
    "        i.sort(reverse=True)\n",
    "        count=count+i[0]\n",
    "    acc2.append((count/r)*100)\n",
    "acc2"
   ]
  },
  {
   "cell_type": "code",
   "execution_count": 16,
   "metadata": {},
   "outputs": [
    {
     "data": {
      "text/plain": [
       "Text(0, 0.5, 'Accuracy')"
      ]
     },
     "execution_count": 16,
     "metadata": {},
     "output_type": "execute_result"
    },
    {
     "data": {
      "image/png": "[encoded data removed]",
      "text/plain": [
       "<Figure size 432x288 with 1 Axes>"
      ]
     },
     "metadata": {
      "needs_background": "light"
     },
     "output_type": "display_data"
    }
   ],
   "source": [
    "import matplotlib.pyplot as plt\n",
    "plt.plot(list,acc2)\n",
    "plt.xlabel('cluster num') \n",
    "plt.ylabel('Accuracy') "
   ]
  }
 ],
 "metadata": {
  "kernelspec": {
   "display_name": "Python 3",
   "language": "python",
   "name": "python3"
  },
  "language_info": {
   "codemirror_mode": {
    "name": "ipython",
    "version": 3
   },
   "file_extension": ".py",
   "mimetype": "text/x-python",
   "name": "python",
   "nbconvert_exporter": "python",
   "pygments_lexer": "ipython3",
   "version": "3.7.3"
  }
 },
 "nbformat": 4,
 "nbformat_minor": 2
}
