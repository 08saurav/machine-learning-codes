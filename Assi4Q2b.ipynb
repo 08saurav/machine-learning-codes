{
 "cells": [
  {
   "cell_type": "code",
   "execution_count": 2,
   "metadata": {},
   "outputs": [],
   "source": [
    "import numpy as np\n",
    "from numpy import genfromtxt\n",
    "import pandas as pd\n",
    "import matplotlib.pyplot as plt\n",
    "from collections import Counter "
   ]
  },
  {
   "cell_type": "code",
   "execution_count": 3,
   "metadata": {},
   "outputs": [],
   "source": [
    "test = genfromtxt('C:\\\\Users\\\\Varun Parashar\\\\Machine Learning lab\\\\mnist-test.csv', delimiter=',')\n",
    "X_te=test[1:,]"
   ]
  },
  {
   "cell_type": "code",
   "execution_count": 4,
   "metadata": {},
   "outputs": [],
   "source": [
    "train = genfromtxt('C:\\\\Users\\\\Varun Parashar\\\\Machine Learning lab\\\\mnist-train.csv', delimiter=',')\n",
    "X_tr=train[1:,1:]\n",
    "y_tr=train[1:,0]"
   ]
  },
  {
   "cell_type": "code",
   "execution_count": 5,
   "metadata": {},
   "outputs": [
    {
     "name": "stdout",
     "output_type": "stream",
     "text": [
      "784\n",
      "784\n"
     ]
    }
   ],
   "source": [
    "l_tr=X_tr.shape[0]\n",
    "l_te=X_te.shape[0]\n",
    "print(X_tr.shape[1])\n",
    "print(X_te.shape[1])"
   ]
  },
  {
   "cell_type": "code",
   "execution_count": 6,
   "metadata": {},
   "outputs": [
    {
     "name": "stdout",
     "output_type": "stream",
     "text": [
      "5.0  "
     ]
    },
    {
     "data": {
      "image/png": "[encoded data removed]",
      "text/plain": [
       "<Figure size 432x288 with 1 Axes>"
      ]
     },
     "metadata": {
      "needs_background": "light"
     },
     "output_type": "display_data"
    }
   ],
   "source": [
    "def Sort_Tuple(tup):  \n",
    "    return(sorted(tup, key = lambda x: x[0]))\n",
    "def knn(k,X_tr,X_te,m):\n",
    "    l=[]\n",
    "    lsort=[]\n",
    "    pred=[]\n",
    "    for i in range(m,m+1):\n",
    "        for j in range(0,l_tr):\n",
    "            x=np.sqrt(np.sum((np.square(X_te[i,:]-X_tr[j,:])),axis=0))\n",
    "            l.append((x,y_tr[j]))\n",
    "        lsort=Sort_Tuple(l)\n",
    "        for i in range(0,k):\n",
    "            pred.append(lsort[i][1])\n",
    "        counter=Counter(pred)\n",
    "        print(counter.most_common(1)[0][0],end='  ')\n",
    "    img=X_te[m].reshape(28,28)\n",
    "    plt.imshow(img,cmap='Greys')\n",
    "    plt.show()\n",
    "knn(4,X_tr,X_te,10)"
   ]
  }
 ],
 "metadata": {
  "kernelspec": {
   "display_name": "Python 3",
   "language": "python",
   "name": "python3"
  },
  "language_info": {
   "codemirror_mode": {
    "name": "ipython",
    "version": 3
   },
   "file_extension": ".py",
   "mimetype": "text/x-python",
   "name": "python",
   "nbconvert_exporter": "python",
   "pygments_lexer": "ipython3",
   "version": "3.7.3"
  }
 },
 "nbformat": 4,
 "nbformat_minor": 2
}
