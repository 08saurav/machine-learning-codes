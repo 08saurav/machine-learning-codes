{
 "cells": [
  {
   "cell_type": "code",
   "execution_count": 12,
   "metadata": {},
   "outputs": [],
   "source": [
    "import pandas as pd"
   ]
  },
  {
   "cell_type": "code",
   "execution_count": 13,
   "metadata": {},
   "outputs": [
    {
     "name": "stdout",
     "output_type": "stream",
     "text": [
      "['no-recurrence-events' 'recurrence-events']\n"
     ]
    }
   ],
   "source": [
    "data1=pd.read_csv(r'C:\\Users\\Varun Parashar\\breast-cancer_train.txt',header=None)\n",
    "data2=pd.read_csv(r'C:\\Users\\Varun Parashar\\breast-cancer_test.txt',header=None)\n",
    "x=data1.loc[:,0].unique()\n",
    "print(x)\n",
    "data3=data1[data1.loc[:,0]==x[0]]\n",
    "data4=data1[data1.loc[:,0]==x[1]]"
   ]
  },
  {
   "cell_type": "code",
   "execution_count": 15,
   "metadata": {},
   "outputs": [],
   "source": [
    "x=(data3.shape)[0]\n",
    "y=(data4.shape)[0]\n",
    "y2=(data2.shape)[1]\n",
    "x3=[]\n",
    "for i,j in data2.iterrows():\n",
    "    p1=1\n",
    "    p2=1\n",
    "    for k in range(1,y2):\n",
    "        x1=((data3[data3.loc[:,k]==j[k]].shape)[0])/x\n",
    "        x2=((data4[data4.loc[:,k]==j[k]].shape)[0])/y\n",
    "        p1=p1*x1\n",
    "        p2=p2*x2\n",
    "    if p1>p2:\n",
    "        x3.append('no-recurrence-events')\n",
    "    else:\n",
    "        x3.append('recurrence-events')"
   ]
  },
  {
   "cell_type": "code",
   "execution_count": 10,
   "metadata": {},
   "outputs": [
    {
     "name": "stdout",
     "output_type": "stream",
     "text": [
      "Accuracy 50.74626865671642\n"
     ]
    }
   ],
   "source": [
    "count=0\n",
    "total=(data2.shape)[0]\n",
    "for i,j in zip(range(0,total),data2.loc[:,0]):\n",
    "    if x3[i]==j:\n",
    "        count+=1\n",
    "print('Accuracy',(count/total)*100)"
   ]
  }
 ],
 "metadata": {
  "kernelspec": {
   "display_name": "Python 3",
   "language": "python",
   "name": "python3"
  },
  "language_info": {
   "codemirror_mode": {
    "name": "ipython",
    "version": 3
   },
   "file_extension": ".py",
   "mimetype": "text/x-python",
   "name": "python",
   "nbconvert_exporter": "python",
   "pygments_lexer": "ipython3",
   "version": "3.7.3"
  }
 },
 "nbformat": 4,
 "nbformat_minor": 2
}
