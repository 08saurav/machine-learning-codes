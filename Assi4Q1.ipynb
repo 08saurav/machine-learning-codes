{
 "cells": [
  {
   "cell_type": "code",
   "execution_count": 5,
   "metadata": {},
   "outputs": [],
   "source": [
    "import pandas as pd"
   ]
  },
  {
   "cell_type": "code",
   "execution_count": 6,
   "metadata": {},
   "outputs": [
    {
     "name": "stdout",
     "output_type": "stream",
     "text": [
      "['no-recurrence-events' 'recurrence-events']\n"
     ]
    },
    {
     "data": {
      "text/html": [
       "<div>\n",
       "<style scoped>\n",
       "    .dataframe tbody tr th:only-of-type {\n",
       "        vertical-align: middle;\n",
       "    }\n",
       "\n",
       "    .dataframe tbody tr th {\n",
       "        vertical-align: top;\n",
       "    }\n",
       "\n",
       "    .dataframe thead th {\n",
       "        text-align: right;\n",
       "    }\n",
       "</style>\n",
       "<table border=\"1\" class=\"dataframe\">\n",
       "  <thead>\n",
       "    <tr style=\"text-align: right;\">\n",
       "      <th></th>\n",
       "      <th>no-recurrence-events</th>\n",
       "      <th>recurrence-events</th>\n",
       "    </tr>\n",
       "  </thead>\n",
       "  <tbody>\n",
       "    <tr>\n",
       "      <th>no-recurrence-events</th>\n",
       "      <td>0.0</td>\n",
       "      <td>0.8</td>\n",
       "    </tr>\n",
       "    <tr>\n",
       "      <th>recurrence-events</th>\n",
       "      <td>0.2</td>\n",
       "      <td>0.0</td>\n",
       "    </tr>\n",
       "  </tbody>\n",
       "</table>\n",
       "</div>"
      ],
      "text/plain": [
       "                      no-recurrence-events  recurrence-events\n",
       "no-recurrence-events                   0.0                0.8\n",
       "recurrence-events                      0.2                0.0"
      ]
     },
     "execution_count": 6,
     "metadata": {},
     "output_type": "execute_result"
    }
   ],
   "source": [
    "data1=pd.read_csv(r'C:\\Users\\Varun Parashar\\breast-cancer_train.txt',header=None)\n",
    "data2=pd.read_csv(r'C:\\Users\\Varun Parashar\\breast-cancer_test.txt',header=None)\n",
    "x=data1.loc[:,0].unique()\n",
    "print(x)\n",
    "data3=data1[data1.loc[:,0]==x[0]]\n",
    "data4=data1[data1.loc[:,0]==x[1]]\n",
    "\n",
    "conf=pd.DataFrame(data=[(0,0.8),(0.2,0)],index=['no-recurrence-events','recurrence-events'],columns=['no-recurrence-events','recurrence-events'])\n",
    "conf"
   ]
  },
  {
   "cell_type": "code",
   "execution_count": 7,
   "metadata": {},
   "outputs": [],
   "source": [
    "x=(data3.shape)[0]\n",
    "y=(data4.shape)[0]\n",
    "y2=(data2.shape)[1]\n",
    "x3=[]\n",
    "x4=[]\n",
    "for i,j in data2.iterrows():\n",
    "    p1=1\n",
    "    p2=1\n",
    "    Rrec=0\n",
    "    Rnonrec=0\n",
    "    for k in range(1,y2):\n",
    "        x1=((data3[data3.loc[:,k]==j[k]].shape)[0])/x\n",
    "        x2=((data4[data4.loc[:,k]==j[k]].shape)[0])/y\n",
    "        p1=p1*x1\n",
    "        p2=p2*x2\n",
    "        Rrec=0.2*p1\n",
    "        Rnonrec=0.8*p2\n",
    "    if p1>p2:\n",
    "        x4.append('no-recurrence-events')\n",
    "    else:\n",
    "        x4.append('recurrence-events')\n",
    "    if Rrec>Rnonrec:\n",
    "        x3.append('no-recurrence-events')\n",
    "    else:\n",
    "        x3.append('recurrence-events')\n",
    "        \n",
    "# print(x3)\n",
    "# print(data2.loc[:,0])"
   ]
  },
  {
   "cell_type": "code",
   "execution_count": 10,
   "metadata": {},
   "outputs": [
    {
     "name": "stdout",
     "output_type": "stream",
     "text": [
      "                      no-recurrence-events  recurrence-events\n",
      "no-recurrence-events                    14                  2\n",
      "recurrence-events                       33                 18\n",
      "\n",
      "\n",
      "\n",
      "                      no-recurrence-events  recurrence-events\n",
      "no-recurrence-events                    17                  3\n",
      "recurrence-events                       30                 17\n",
      "\n",
      "\n",
      "\n",
      "Accuracy with risk 47.76119402985074\n",
      "Accuracy without risk 50.74626865671642\n"
     ]
    }
   ],
   "source": [
    "count1=0\n",
    "count2=0\n",
    "c1=0;c2=0;c3=0;c4=0;c5=0;c6=0;c7=0;c8=0\n",
    "total=(data2.shape)[0]\n",
    "for i,j in zip(range(0,total),data2.loc[:,0]):\n",
    "    if x3[i]==j:\n",
    "        count1+=1\n",
    "    if x3[i]=='no-recurrence-events' and j=='recurrence-events':\n",
    "        c1+=1\n",
    "    elif x3[i]=='no-recurrence-events' and j=='no-recurrence-events':\n",
    "        c2+=1\n",
    "    elif x3[i]=='recurrence-events' and j=='no-recurrence-events':\n",
    "        c3+=1\n",
    "    else:\n",
    "        c4+=1\n",
    "    if x4[i]==j:\n",
    "        count2+=1\n",
    "    if x4[i]=='no-recurrence-events' and j=='recurrence-events':\n",
    "        c5+=1\n",
    "    elif x4[i]=='no-recurrence-events' and j=='no-recurrence-events':\n",
    "        c6+=1\n",
    "    elif x4[i]=='recurrence-events' and j=='no-recurrence-events':\n",
    "        c7+=1\n",
    "    else:\n",
    "        c8+=1\n",
    "conf2=pd.DataFrame(data=[(c2,c1),(c3,c4)],index=['no-recurrence-events','recurrence-events'],columns=['no-recurrence-events','recurrence-events'])\n",
    "print(conf2,end='\\n\\n\\n\\n')\n",
    "conf2=pd.DataFrame(data=[(c6,c5),(c7,c8)],index=['no-recurrence-events','recurrence-events'],columns=['no-recurrence-events','recurrence-events'])\n",
    "print(conf2,end='\\n\\n\\n\\n')       \n",
    "print('Accuracy with risk',(count1/total)*100)\n",
    "print('Accuracy without risk',(count2/total)*100)"
   ]
  },
  {
   "cell_type": "code",
   "execution_count": null,
   "metadata": {},
   "outputs": [],
   "source": []
  }
 ],
 "metadata": {
  "kernelspec": {
   "display_name": "Python 3",
   "language": "python",
   "name": "python3"
  },
  "language_info": {
   "codemirror_mode": {
    "name": "ipython",
    "version": 3
   },
   "file_extension": ".py",
   "mimetype": "text/x-python",
   "name": "python",
   "nbconvert_exporter": "python",
   "pygments_lexer": "ipython3",
   "version": "3.7.3"
  }
 },
 "nbformat": 4,
 "nbformat_minor": 2
}
